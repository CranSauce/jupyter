{
 "cells": [
  {
   "cell_type": "markdown",
   "id": "07b530dc-1dcc-4a5c-b1ea-4eace9a6849d",
   "metadata": {},
   "source": [
    "# Data Science Tools and Ecosystem"
   ]
  },
  {
   "cell_type": "code",
   "execution_count": null,
   "id": "e1991500-380a-4dbc-afd9-48372688450d",
   "metadata": {},
   "outputs": [],
   "source": []
  },
  {
   "cell_type": "markdown",
   "id": "8d53bbc7-46bf-45ff-948a-bccc98063340",
   "metadata": {},
   "source": [
    "## In this notebook, Data Science Tools and Ecosystem are summarized."
   ]
  },
  {
   "cell_type": "markdown",
   "id": "15fa9748-4518-488b-91ae-49adb68294cf",
   "metadata": {},
   "source": [
    "### Some of the popular languages that Data Scientists use are:\n",
    "    1. Python\n",
    "    2. R\n",
    "    3. SQL"
   ]
  },
  {
   "cell_type": "markdown",
   "id": "43df2aa5-f15a-4088-ad52-5b4735ece74a",
   "metadata": {},
   "source": [
    "### Some of the commonly used libraries used by Data Scientists include:\n",
    "    1. Plotlib\n",
    "    2. Pandas\n",
    "    3. Numpy"
   ]
  },
  {
   "cell_type": "markdown",
   "id": "7bad5b7b-6725-4e84-b28d-ec82bf3c8251",
   "metadata": {},
   "source": [
    "| Data Science Tools |\n",
    "| -------- |\n",
    "| RStudio |\n",
    "| VSCode |\n",
    "| Jupyter Notebook |"
   ]
  },
  {
   "cell_type": "markdown",
   "id": "5d5d6148-306b-4f70-978b-7c195acaf954",
   "metadata": {},
   "source": [
    "### Below are a few examples of evaluating arithmetic expressions in Python:\n",
    "| Operator | Name | Example |\n",
    "| -------- | ---- | ------- |\n",
    "| + | Addition | a + b = 30 | \n",
    "| - | Subtraction | a – b = -10 | \n",
    "| * | Multiplication | a * b = 200 | \n",
    "| / | Division | b / a = 2 | "
   ]
  },
  {
   "cell_type": "code",
   "execution_count": null,
   "id": "33f4b3ec-5c82-4826-9aba-640290858bb5",
   "metadata": {},
   "outputs": [],
   "source": [
    "(3*4)+5"
   ]
  },
  {
   "cell_type": "code",
   "execution_count": null,
   "id": "5394ce51-c4a9-40ec-8b37-03080db30e89",
   "metadata": {},
   "outputs": [],
   "source": [
    "200/60"
   ]
  },
  {
   "cell_type": "markdown",
   "id": "40dfcb86-94de-498a-9953-6ae80617ef0f",
   "metadata": {},
   "source": [
    "**Objectives:**\n",
    "- Create a Jupyter Notebook\n",
    "- Create a title and introduction\n",
    "- List popular Data Science libraries\n",
    "- List popular Data Science languages\n",
    "- Create a table of Data Science Tools\n",
    "- Show examples of arithmetic operators"
   ]
  },
  {
   "cell_type": "markdown",
   "id": "32d81845-8c7e-4f5e-b13c-7f53f40f15c4",
   "metadata": {},
   "source": [
    "## Author\n",
    "Andrew Thomas"
   ]
  }
 ],
 "metadata": {
  "kernelspec": {
   "display_name": "Python 3 (ipykernel)",
   "language": "python",
   "name": "python3"
  },
  "language_info": {
   "codemirror_mode": {
    "name": "ipython",
    "version": 3
   },
   "file_extension": ".py",
   "mimetype": "text/x-python",
   "name": "python",
   "nbconvert_exporter": "python",
   "pygments_lexer": "ipython3",
   "version": "3.12.8"
  }
 },
 "nbformat": 4,
 "nbformat_minor": 5
}
